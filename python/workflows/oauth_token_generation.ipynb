{
 "metadata": {
  "language_info": {
   "codemirror_mode": {
    "name": "ipython",
    "version": 3
   },
   "file_extension": ".py",
   "mimetype": "text/x-python",
   "name": "python",
   "nbconvert_exporter": "python",
   "pygments_lexer": "ipython3",
   "version": "3.9.6"
  },
  "orig_nbformat": 4,
  "kernelspec": {
   "name": "python3",
   "display_name": "Python 3.9.6 64-bit ('3.9.6')"
  },
  "interpreter": {
   "hash": "0bb46f64b25b89d3290557556efc5c265ba33a65bb68db1d6255a1ba6d6cb731"
  }
 },
 "nbformat": 4,
 "nbformat_minor": 2,
 "cells": [
  {
   "source": [
    "# Dolby.io OAuth Authentication Example\n",
    "\n",
    "This notebook will walk through how to get started using [OAuth](https://docs.dolby.io/media-processing/docs/authentication) for Dolby.io API key authorization instead of an API key.\n",
    "\n",
    "\n",
    "## Step 1: Create the Token\n",
    "\n",
    "Here we want to create our token by taking our API key and secret, and Base64 encoding it to be saved as an environment variable. Note that this will save the Environment variable locally in the environment the code is called, so make sure it is saved somewhere usable by the necessary functions. The token will expire after 12 hours."
   ],
   "cell_type": "markdown",
   "metadata": {}
  },
  {
   "source": [
    "# ! pip install --user requests\n",
    "\n",
    "import requests\n",
    "from requests.auth import HTTPBasicAuth\n",
    "\n",
    "key = input(\"Input your Dolby.io Media Processing API Key:\")\n",
    "secret = input(\"Input your Dolby.io Media Processing Secret:\")\n",
    "response = requests.post(\"https://api.dolby.com/media/oauth2/token\",\n",
    "    auth = HTTPBasicAuth(key, secret),\n",
    "    headers = {\n",
    "        \"Content-Type\": \"application/x-www-form-urlencoded\"\n",
    "    },\n",
    "    data= { \"grant_type\": \"client_credentials\" })\n",
    "response.raise_for_status()\n",
    "# Note: the token will expire after 12 hours, in which it will need to be regenerated\n",
    "os.environ['DOLBYIO_API_TOKEN'] = response.json()[\"access_token\"]\n",
    "print(\"Token created and saved to environment variable \\\"DOLBYIO_API_KEY\\\".\")"
   ],
   "cell_type": "code",
   "metadata": {},
   "execution_count": null,
   "outputs": []
  },
  {
   "source": [
    "## Step 2: use the token in an API call\n",
    "\n",
    "Here, we replace `\"x-api-key\": api_key,` with `\"Authorization\": \"Bearer <YOUR_TOKEN>\"`, with the remainder of the call remaining the same."
   ],
   "cell_type": "markdown",
   "metadata": {}
  },
  {
   "cell_type": "code",
   "execution_count": null,
   "metadata": {},
   "outputs": [],
   "source": [
    "import os\n",
    "import requests\n",
    "\n",
    "# Set or replace these values\n",
    "body = {\n",
    "  \"input\" : \"dlb://in/example.mp4\",\n",
    "  \"output\" : \"dlb://out/example-enhanced.mp4\"\n",
    "}\n",
    "\n",
    "url = \"https://api.dolby.com/media/enhance\"\n",
    "headers = {\n",
    "  \"Authorization\": f\"Bearer {os.environ['DOLBYIO_API_TOKEN']}\",\n",
    "  \"Content-Type\": \"application/json\",\n",
    "  \"Accept\": \"application/json\"\n",
    "}\n",
    "\n",
    "response = requests.post(url, json=body, headers=headers)\n",
    "response.raise_for_status()\n",
    "json = response.json()\n",
    "os.environ['DOLBYIO_JOB_ID'] = json['job_id']\n",
    "print(f\"File uploaded successfully with the job id: {json['job_id']}\")"
   ]
  },
  {
   "cell_type": "code",
   "execution_count": null,
   "metadata": {},
   "outputs": [],
   "source": [
    "import os\n",
    "import requests\n",
    "\n",
    "url = \"https://api.dolby.com/media/enhance\"\n",
    "headers = {\n",
    "  \"Authorization\": f\"Bearer {os.environ['DOLBYIO_API_TOKEN']}\",\n",
    "  \"Content-Type\": \"application/json\",\n",
    "  \"Accept\": \"application/json\"\n",
    "}\n",
    "\n",
    "params = {\n",
    "  \"job_id\": os.environ[\"DOLBYIO_JOB_ID\"]\n",
    "}\n",
    "\n",
    "response = requests.get(url, params=params, headers=headers)\n",
    "response.raise_for_status()\n",
    "print(response.json())"
   ]
  },
  {
   "cell_type": "code",
   "execution_count": null,
   "metadata": {},
   "outputs": [],
   "source": [
    "import os\n",
    "import shutil\n",
    "import requests\n",
    "\n",
    "output_path = os.environ[\"OUTPUT_MEDIA_LOCAL_PATH\"]\n",
    "\n",
    "url = \"https://api.dolby.com/media/output\"\n",
    "headers = {\n",
    "    \"Authorization\": f\"Bearer {os.environ['DOLBYIO_API_TOKEN']}\",\n",
    "    \"Content-Type\": \"application/json\",\n",
    "    \"Accept\": \"application/json\",\n",
    "}\n",
    "\n",
    "args = {\n",
    "    \"url\": \"dlb://out/example-enhanced.mp4\",\n",
    "}\n",
    "\n",
    "with requests.get(url, params=args, headers=headers, stream=True) as response:\n",
    "    response.raise_for_status()\n",
    "    response.raw.decode_content = True\n",
    "    print(\"Downloading from {0} into {1}\".format(response.url, output_path))\n",
    "    with open(output_path, \"wb\") as output_file:\n",
    "        shutil.copyfileobj(response.raw, output_file)"
   ]
  },
  {
   "source": [
    "## Expanding Further\n",
    "\n",
    "This is only the beginning of authentication in Python. We can do more to automate the process further for quality of life improvements, such as:\n",
    "- Storing the token as an automatically expiring cookie if using a web framework, like Flask or Django\n",
    "- Prompting the token to be recreated upon getting a bad request error on API calls\n",
    "- Checking the token's validity before it is saved\n",
    "- Creating a GUI for authentication in a login screen format\n",
    "- Implementing [Webhooks](https://docs.dolby.io/media-processing/docs/webhooks-and-callbacks) instead of polling for jobs to complete.\n",
    "- Trying out our [Analyze](https://docs.dolby.io/media-processing/docs/quick-start-to-analyzing-media) or [Diagnose](https://docs.dolby.io/media-processing/docs/quick-start-to-diagnosing-media) API endpoints instead of Enhance for more fine tuned data.\n",
    "- Adding in real time loading bars and messages.\n",
    "- Connecting this with a third party cloud storage provider, such as [AWS S3](https://docs.dolby.io/media-processing/docs/aws-s3), instead of local downloads.\n",
    "\n",
    "\n",
    "### Made by [Dolby.io](https://dolby.io/).\n",
    "\n",
    "Create your account for free [here](https://dolby.io/signup)!"
   ],
   "cell_type": "markdown",
   "metadata": {}
  }
 ]
}